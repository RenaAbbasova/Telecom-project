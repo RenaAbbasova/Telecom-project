{
  "nbformat": 4,
  "nbformat_minor": 0,
  "metadata": {
    "colab": {
      "private_outputs": true,
      "provenance": []
    },
    "kernelspec": {
      "name": "python3",
      "display_name": "Python 3"
    },
    "language_info": {
      "name": "python"
    }
  },
  "cells": [
    {
      "cell_type": "markdown",
      "source": [
        "# Import Libraries"
      ],
      "metadata": {
        "id": "M151KqwkRG_y"
      }
    },
    {
      "cell_type": "code",
      "execution_count": null,
      "metadata": {
        "id": "4FX3RnWkug5Z"
      },
      "outputs": [],
      "source": [
        "# import libraries\n",
        "import numpy as np\n",
        "import pandas as pd\n",
        "import seaborn as sns\n",
        "import matplotlib.pyplot as plt\n",
        "import warnings\n",
        "warnings.filterwarnings('ignore')\n",
        "pd.set_option('display.max_rows',100)\n",
        "pd.set_option('display.max_rows',100)\n",
        "%matplotlib inline\n",
        "sns.set()"
      ]
    },
    {
      "cell_type": "code",
      "source": [
        "# read the data\n",
        "Test_data=pd.read_csv('/content/drive/MyDrive/data/Telecom_Test.csv')\n",
        "Train_data = pd.read_csv('/content/drive/MyDrive/data/Telecom_Train.csv')"
      ],
      "metadata": {
        "id": "zan5LqeDvvuJ"
      },
      "execution_count": null,
      "outputs": []
    },
    {
      "cell_type": "markdown",
      "source": [
        "# EDA"
      ],
      "metadata": {
        "id": "TyPilaY2HQi3"
      }
    },
    {
      "cell_type": "code",
      "source": [
        "df_train=Test_data.copy()"
      ],
      "metadata": {
        "id": "DuMYZti4v_14"
      },
      "execution_count": null,
      "outputs": []
    },
    {
      "cell_type": "code",
      "source": [
        "df_test=Train_data.copy()"
      ],
      "metadata": {
        "id": "oachCdnEwDRj"
      },
      "execution_count": null,
      "outputs": []
    },
    {
      "cell_type": "code",
      "source": [
        "df_train.head()"
      ],
      "metadata": {
        "id": "Xukx3TTCwFBM"
      },
      "execution_count": null,
      "outputs": []
    },
    {
      "cell_type": "code",
      "source": [
        "df_test"
      ],
      "metadata": {
        "id": "ETKMCKOiHzL7"
      },
      "execution_count": null,
      "outputs": []
    },
    {
      "cell_type": "code",
      "source": [
        "# drop unwanted column\n",
        "df_train.drop('Unnamed: 0', axis=1, inplace=True)\n",
        "df_test.drop('Unnamed: 0', axis=1, inplace=True)"
      ],
      "metadata": {
        "id": "25MPHmclA8uK"
      },
      "execution_count": null,
      "outputs": []
    },
    {
      "cell_type": "code",
      "source": [
        "df_train.info()"
      ],
      "metadata": {
        "id": "mhpQZmHOxIYW"
      },
      "execution_count": null,
      "outputs": []
    },
    {
      "cell_type": "code",
      "source": [
        "# check duplicated values\n",
        "df_train.duplicated().sum()"
      ],
      "metadata": {
        "id": "tDn6u4iZ-fcf"
      },
      "execution_count": null,
      "outputs": []
    },
    {
      "cell_type": "code",
      "source": [
        "# Check null values\n",
        "df_train.isnull().sum()"
      ],
      "metadata": {
        "id": "_XT__JJp97Ir"
      },
      "execution_count": null,
      "outputs": []
    },
    {
      "cell_type": "code",
      "source": [
        "# plot the graph with null values\n",
        "sns.heatmap(df_train.isnull())\n",
        "plt.show()"
      ],
      "metadata": {
        "id": "drcuPebn-QqZ"
      },
      "execution_count": null,
      "outputs": []
    },
    {
      "cell_type": "code",
      "source": [
        "# Use describe function to generate descriptive statistics\n",
        "df_train.describe()"
      ],
      "metadata": {
        "id": "qOXCxanG-2lr"
      },
      "execution_count": null,
      "outputs": []
    },
    {
      "cell_type": "code",
      "source": [
        "# Lets see unique values in each variable\n",
        "df_train.nunique().sort_values()"
      ],
      "metadata": {
        "id": "5puGVj_hITKV"
      },
      "execution_count": null,
      "outputs": []
    },
    {
      "cell_type": "code",
      "source": [
        "df_train['area_code'].value_counts()"
      ],
      "metadata": {
        "id": "axNWpE99ozZz"
      },
      "execution_count": null,
      "outputs": []
    },
    {
      "cell_type": "code",
      "source": [
        "df_train.dtypes.sort_values()"
      ],
      "metadata": {
        "id": "4zq31_3LBkLy"
      },
      "execution_count": null,
      "outputs": []
    },
    {
      "cell_type": "code",
      "source": [
        "df_train['churn'].value_counts()*100/len(df_train)\n"
      ],
      "metadata": {
        "id": "4IQ5eXrhJ-Nh"
      },
      "execution_count": null,
      "outputs": []
    },
    {
      "cell_type": "markdown",
      "source": [
        "### Correlation\n"
      ],
      "metadata": {
        "id": "clRLA23VUB0-"
      }
    },
    {
      "cell_type": "code",
      "source": [
        "# Drop non-numeric columns\n",
        "df_train_numeric = df_train.select_dtypes(include=['number'])\n",
        "\n",
        "# Calculate the correlation matrix\n",
        "corr_matrix = df_train_numeric.corr()\n",
        "\n",
        "# Plot the heatmap\n",
        "plt.figure(figsize=(15, 8))\n",
        "sns.heatmap(corr_matrix, annot=True, cmap='coolwarm', fmt=\".2f\")\n",
        "plt.title('Correlation Heatmap of Continuous Variables')\n",
        "plt.show()\n"
      ],
      "metadata": {
        "id": "UkVUbggBTwPA"
      },
      "execution_count": null,
      "outputs": []
    },
    {
      "cell_type": "markdown",
      "source": [
        "##### As we can see, there is multicollinearity. Let's drop the columns 'total_intl_minutes', 'total_night_minutes', 'total_eve_minutes', 'total_day_minutes', and 'number_vmail_messages'."
      ],
      "metadata": {
        "id": "lNX4Q0-GUraR"
      }
    },
    {
      "cell_type": "code",
      "source": [
        "df_train.drop(['total_intl_minutes', 'total_night_minutes', 'total_eve_minutes', 'total_day_minutes', 'number_vmail_messages'], axis=1, inplace=True)\n",
        "df_test.drop(['total_intl_minutes', 'total_night_minutes', 'total_eve_minutes', 'total_day_minutes', 'number_vmail_messages'], axis=1, inplace=True)"
      ],
      "metadata": {
        "id": "PoHxTicnaP-A"
      },
      "execution_count": null,
      "outputs": []
    },
    {
      "cell_type": "code",
      "source": [
        "df_train.shape"
      ],
      "metadata": {
        "id": "q6r0zBluU4EZ"
      },
      "execution_count": null,
      "outputs": []
    },
    {
      "cell_type": "markdown",
      "source": [
        "## Univariate analysis"
      ],
      "metadata": {
        "id": "0os68s_oIFrz"
      }
    },
    {
      "cell_type": "code",
      "source": [
        "# Visualizing the churn variable\n",
        "Churn = df_train['churn'].value_counts(sort = True)\n",
        "colorss = [\"pink\",\"blue\"]\n",
        "plt.pie(Churn,labels = Churn.index.values, explode= [0, 0.2],  colors=colorss, autopct='%1.1f%%', shadow=True, startangle=90)\n",
        "plt.title('%Churn in Training Data')\n",
        "plt.show()"
      ],
      "metadata": {
        "id": "0TrkCfkBGAZ2"
      },
      "execution_count": null,
      "outputs": []
    },
    {
      "cell_type": "code",
      "source": [
        "# Define the DataFrame 'cap' containing the columns to plot\n",
        "num_var = df_train[['account_length', 'total_day_calls', 'total_day_charge',\n",
        "          'total_eve_calls', 'total_eve_charge', 'total_night_calls',\n",
        "          'total_night_charge', 'total_intl_calls', 'total_intl_charge',\n",
        "          'number_customer_service_calls']]\n",
        "\n",
        "# Define a function to plot distribution plots\n",
        "def distplots(col):\n",
        "    sns.displot(num_var[col])\n",
        "    plt.show()\n",
        "\n",
        "# Iterate over each column in 'cap' and plot its distribution\n",
        "for col in num_var.columns:\n",
        "    distplots(col)\n"
      ],
      "metadata": {
        "id": "5Wb4hSopN_Vz"
      },
      "execution_count": null,
      "outputs": []
    },
    {
      "cell_type": "code",
      "source": [
        "sns.boxplot(y='total_night_charge', data=df_train)"
      ],
      "metadata": {
        "id": "CEuW7Uu-B-UI"
      },
      "execution_count": null,
      "outputs": []
    },
    {
      "cell_type": "code",
      "source": [
        "sns.boxplot(y='total_intl_calls', data=df_train)"
      ],
      "metadata": {
        "id": "gOcUfzLSCa7Q"
      },
      "execution_count": null,
      "outputs": []
    },
    {
      "cell_type": "markdown",
      "source": [
        "### Boxplot"
      ],
      "metadata": {
        "id": "QdrM16TQQ7ga"
      }
    },
    {
      "cell_type": "code",
      "source": [
        "plt.figure(figsize=(25,6))\n",
        "sns.boxplot(data=num_var)"
      ],
      "metadata": {
        "id": "c0jQf1W7Plp7"
      },
      "execution_count": null,
      "outputs": []
    },
    {
      "cell_type": "markdown",
      "source": [
        "##### There are outliers; we can use the capping approach"
      ],
      "metadata": {
        "id": "H_Ihrdd3QFmL"
      }
    },
    {
      "cell_type": "code",
      "source": [
        "# Data wrangling\n",
        "print('No. of customers churning:', df_train[df_train['churn']=='yes'].churn.count())\n",
        "churn_df = df_train[df_train['churn']=='yes']\n",
        "#print('No. of customers churning:', df_test[df_test['churn']=='yes'].churn.count())\n",
        "print('No of unique account_length:', df_train['account_length'].nunique())\n",
        "\n",
        "churn_df"
      ],
      "metadata": {
        "id": "Ws-x9kfcH6pA"
      },
      "execution_count": null,
      "outputs": []
    },
    {
      "cell_type": "code",
      "source": [
        "# % of total customer churning train data\n",
        "print('Total no. of customer:', df_train.churn.count())\n",
        "perc_churn = (len(churn_df)/len(df_train))*100\n",
        "print(f'percentage od custonmer churning:{round(perc_churn,2)}%')"
      ],
      "metadata": {
        "id": "GFeVh51RH7hB"
      },
      "execution_count": null,
      "outputs": []
    },
    {
      "cell_type": "code",
      "source": [
        "print('No. of customers churning:', df_test[df_test['churn']=='yes'].churn.count())\n",
        "churn_df_test = df_test[df_test['churn']=='yes']"
      ],
      "metadata": {
        "id": "X8c76MXIIBpr"
      },
      "execution_count": null,
      "outputs": []
    },
    {
      "cell_type": "code",
      "source": [
        "# % of total customer churning test data\n",
        "print('Total no. of customer:', df_test.churn.count())\n",
        "perc_churn_test = (len(churn_df_test)/len(df_test))*100\n",
        "print(f'percentage od custonmer churning:{round(perc_churn_test,2)}%')"
      ],
      "metadata": {
        "id": "UtUEgIc6IIGs"
      },
      "execution_count": null,
      "outputs": []
    },
    {
      "cell_type": "code",
      "source": [
        "# binary categorical variables\n",
        "cat_var = ['international_plan','voice_mail_plan','churn']"
      ],
      "metadata": {
        "id": "o5K7m8z0IIDk"
      },
      "execution_count": null,
      "outputs": []
    },
    {
      "cell_type": "code",
      "source": [
        "df_train[cat_var] = df_train[cat_var].replace({'yes':1, 'no':0})"
      ],
      "metadata": {
        "id": "9heKEmv2ISB6"
      },
      "execution_count": null,
      "outputs": []
    },
    {
      "cell_type": "code",
      "source": [
        "df_test[cat_var] = df_test[cat_var].replace({'yes':1, 'no':0})"
      ],
      "metadata": {
        "id": "mVumBrAKIR-y"
      },
      "execution_count": null,
      "outputs": []
    },
    {
      "cell_type": "code",
      "source": [
        "# Extract numeric part of the area code\n",
        "df_train['area_code'] = df_train['area_code'].str.split('_').str[-1]\n",
        "df_test['area_code'] = df_test['area_code'].str.split('_').str[-1]"
      ],
      "metadata": {
        "id": "ZAc2fBkSyGIF"
      },
      "execution_count": null,
      "outputs": []
    },
    {
      "cell_type": "code",
      "source": [
        "# convert object to integer type\n",
        "df_train['area_code']=df_train['area_code'].astype(int)\n",
        "df_test['area_code'] =df_test['area_code'] .astype(int)\n"
      ],
      "metadata": {
        "id": "ljWs9wCcvnwz"
      },
      "execution_count": null,
      "outputs": []
    },
    {
      "cell_type": "code",
      "source": [
        "# Apply one-hot encoding to the categorical column\n",
        "df_train_encoded = pd.get_dummies(df_train, columns=['state'], prefix='object')\n",
        "df_test_encoded = pd.get_dummies(df_test, columns=['state'], prefix='object')\n",
        "\n"
      ],
      "metadata": {
        "id": "RWs7iWjLv17L"
      },
      "execution_count": null,
      "outputs": []
    },
    {
      "cell_type": "code",
      "source": [
        "df_train_encoded = df_train_encoded.astype(int)\n",
        "df_test_encoded = df_test_encoded.astype(int)"
      ],
      "metadata": {
        "id": "Yu1VAiI1PB5T"
      },
      "execution_count": null,
      "outputs": []
    },
    {
      "cell_type": "code",
      "source": [
        "df_train_encoded.shape"
      ],
      "metadata": {
        "id": "H9K467j2NOY2"
      },
      "execution_count": null,
      "outputs": []
    },
    {
      "cell_type": "code",
      "source": [
        "df_test_encoded.shape"
      ],
      "metadata": {
        "id": "AsrmnB8zNNXO"
      },
      "execution_count": null,
      "outputs": []
    },
    {
      "cell_type": "markdown",
      "source": [
        "# Model Building"
      ],
      "metadata": {
        "id": "I6_Wti3YP296"
      }
    },
    {
      "cell_type": "code",
      "source": [
        "# split the data\n",
        "X_train = df_train_encoded.drop('churn',axis=1)\n",
        "Y_train = df_train_encoded['churn']\n",
        "X_test = df_test_encoded.drop('churn', axis = 1)\n",
        "Y_test = df_test_encoded['churn']"
      ],
      "metadata": {
        "id": "u9wWDg5MMaLO"
      },
      "execution_count": null,
      "outputs": []
    },
    {
      "cell_type": "code",
      "source": [
        "X_train.shape, X_test.shape"
      ],
      "metadata": {
        "id": "Qie8ZkpVQkX5"
      },
      "execution_count": null,
      "outputs": []
    },
    {
      "cell_type": "code",
      "source": [
        "Y_train.shape, Y_test.shape"
      ],
      "metadata": {
        "id": "bWsFbbo0QsM9"
      },
      "execution_count": null,
      "outputs": []
    },
    {
      "cell_type": "markdown",
      "source": [
        "### Feature Scaling"
      ],
      "metadata": {
        "id": "YVt4BPVFop59"
      }
    },
    {
      "cell_type": "code",
      "source": [
        "from sklearn.preprocessing import StandardScaler\n",
        "scaler=StandardScaler()\n",
        "X_train_scaled =scaler.fit_transform(X_train)\n",
        "X_test_scaled = scaler.fit_transform(X_test)"
      ],
      "metadata": {
        "id": "WQ5xNYXyl2Vt"
      },
      "execution_count": null,
      "outputs": []
    },
    {
      "cell_type": "code",
      "source": [
        "X_train_df =pd.DataFrame(X_train_scaled, columns=X_train.columns)\n",
        "X_test_df = pd.DataFrame(X_test_scaled, columns=X_test.columns)"
      ],
      "metadata": {
        "id": "cYg4olmsWfdT"
      },
      "execution_count": null,
      "outputs": []
    },
    {
      "cell_type": "code",
      "source": [
        "X_test_df"
      ],
      "metadata": {
        "id": "Adr2XFECXK4Q"
      },
      "execution_count": null,
      "outputs": []
    },
    {
      "cell_type": "markdown",
      "source": [
        "###Feature Selection"
      ],
      "metadata": {
        "id": "ej4qFsO6cOga"
      }
    },
    {
      "cell_type": "code",
      "source": [
        "from sklearn.ensemble import RandomForestClassifier\n",
        "rf_label = RandomForestClassifier()\n",
        "\n",
        "# Fit the classifier to the training data\n",
        "rf_label.fit(X_train_df, Y_train)\n",
        "\n",
        "# Create a DataFrame to store feature importances\n",
        "df1 = pd.DataFrame({\"Feature\": X_train_df.columns, \"RF_importance\": rf_label.feature_importances_})\n",
        "\n",
        "# Sort the DataFrame by feature importance in descending order\n",
        "df1 = df1.sort_values(by=\"RF_importance\", ascending=False)\n",
        "\n",
        "# Display the DataFrame\n",
        "print(df1)\n"
      ],
      "metadata": {
        "id": "HhF0fki_ZLay"
      },
      "execution_count": null,
      "outputs": []
    },
    {
      "cell_type": "code",
      "source": [
        "from sklearn.ensemble import GradientBoostingClassifier\n",
        "GB_label = GradientBoostingClassifier()\n",
        "\n",
        "# Fit the classifier to the training data\n",
        "GB_label.fit(X_train_df, Y_train)\n",
        "\n",
        "# Create a DataFrame to store feature importances\n",
        "df2 = pd.DataFrame({\"Feature\": X_train_df.columns, \"RF_importance\": GB_label.feature_importances_})\n",
        "\n",
        "# Sort the DataFrame by feature importance in descending order\n",
        "df2 = df1.sort_values(by=\"RF_importance\", ascending=False)\n",
        "\n",
        "# Display the DataFrame\n",
        "print(df2)"
      ],
      "metadata": {
        "id": "svYsrT2HbAUR"
      },
      "execution_count": null,
      "outputs": []
    },
    {
      "cell_type": "markdown",
      "source": [
        "#### Per RF and GB 'area code' less important feature"
      ],
      "metadata": {
        "id": "zS72POs9cp1E"
      }
    },
    {
      "cell_type": "code",
      "source": [
        "# imbalance treatment for train data\n",
        "import imblearn\n",
        "from imblearn.over_sampling import SMOTE\n",
        "smote = SMOTE()\n",
        "x_smote, y_smote = smote.fit_resample(X_train_df,Y_train)\n",
        "print('Original Value Counts:', Y_train.value_counts())\n",
        "print('********** SMOTE Method********')\n",
        "print(\"After Smote Value Count:\", y_smote.value_counts())"
      ],
      "metadata": {
        "id": "h1nKavQcbOQ5"
      },
      "execution_count": null,
      "outputs": []
    },
    {
      "cell_type": "code",
      "source": [
        "# imbalance treatment for test data\n",
        "import imblearn\n",
        "from imblearn.over_sampling import SMOTE\n",
        "smote = SMOTE()\n",
        "x_smote_test, y_smote_test = smote.fit_resample(X_test_df,Y_test)\n",
        "print('Original Value Counts:', Y_test.value_counts())\n",
        "print('********** SMOTE Method********')\n",
        "print(\"After Smote Value Count:\", y_smote_test.value_counts())"
      ],
      "metadata": {
        "id": "c8VxF7ez71LM"
      },
      "execution_count": null,
      "outputs": []
    },
    {
      "cell_type": "markdown",
      "source": [
        "#Traditional Machine Learning Algorithms (RandomForest, XGBoost)\n",
        "\n",
        "#Advanced Techniques (Deep Learning Algorithm,H2O.AI Auto Method - automation method)"
      ],
      "metadata": {
        "id": "4j2Mgcs5-a-l"
      }
    },
    {
      "cell_type": "code",
      "source": [
        "from sklearn.ensemble import RandomForestClassifier\n",
        "rf = RandomForestClassifier()\n",
        "rf.fit(X_train, Y_train)\n",
        "y_pred_train = rf.predict(X_train)\n",
        "y_pred_test = rf.predict(X_test)\n",
        "\n",
        "\n",
        "# Evaluation matrix\n",
        "\n",
        "from sklearn.metrics import classification_report, accuracy_score, confusion_matrix\n",
        "print('****** classification_report*****')\n",
        "print(classification_report(Y_train,y_pred_train))\n",
        "print(classification_report(Y_test,y_pred_test))\n",
        "\n",
        "print('****** accuracy_score ***********')\n",
        "print(accuracy_score(Y_train,y_pred_train))\n",
        "print(accuracy_score(Y_test,y_pred_test))\n",
        "\n",
        "\n"
      ],
      "metadata": {
        "id": "D90TtDMV9Can"
      },
      "execution_count": null,
      "outputs": []
    },
    {
      "cell_type": "code",
      "source": [
        "from xgboost import XGBClassifier\n",
        "XGB = XGBClassifier()\n",
        "XGB.fit(X_train, Y_train)\n",
        "y_pred_train_xgb = XGB.predict(X_train)\n",
        "y_pred_test_xgb = XGB.predict(X_test)\n",
        "\n",
        "\n",
        "# Evaluation matrix\n",
        "\n",
        "from sklearn.metrics import classification_report, accuracy_score, confusion_matrix\n",
        "print('****** classification_report*****')\n",
        "print(classification_report(Y_train,y_pred_train_xgb))\n",
        "print(classification_report(Y_test,y_pred_test_xgb))\n",
        "\n",
        "print('****** accuracy_score ***********')\n",
        "print(accuracy_score(Y_train,y_pred_train_xgb))\n",
        "print(accuracy_score(Y_test,y_pred_test_xgb))"
      ],
      "metadata": {
        "id": "dI_m94_oAjog"
      },
      "execution_count": null,
      "outputs": []
    },
    {
      "cell_type": "code",
      "source": [
        "# CrossValidation method\n",
        "from sklearn.model_selection import cross_val_score\n",
        "training_accuracy = cross_val_score(XGB, X_train, Y_train, cv=10)\n",
        "print(training_accuracy.mean())\n",
        "print(\"*********************\")\n",
        "print(training_accuracy.max())"
      ],
      "metadata": {
        "id": "2jCZMW4mBpTQ"
      },
      "execution_count": null,
      "outputs": []
    },
    {
      "cell_type": "code",
      "source": [
        "# CrossValidation method\n",
        "from sklearn.model_selection import cross_val_score\n",
        "training_accuracy = cross_val_score(rf, X_train, Y_train, cv=10)\n",
        "print(training_accuracy.mean())\n",
        "print(\"*********************\")\n",
        "print(training_accuracy.max())"
      ],
      "metadata": {
        "id": "ch7u_LVMCYh6"
      },
      "execution_count": null,
      "outputs": []
    },
    {
      "cell_type": "markdown",
      "source": [
        "# Deep Learning Method_MultiLayer Perceptron Method"
      ],
      "metadata": {
        "id": "mK1LLM84Fz4e"
      }
    },
    {
      "cell_type": "code",
      "source": [
        "\n",
        "\n",
        "import tensorflow as tf\n",
        "from tensorflow import keras\n",
        "from keras.layers import *\n",
        "from keras import  Sequential"
      ],
      "metadata": {
        "id": "iQBDXZt3Cn-J"
      },
      "execution_count": null,
      "outputs": []
    },
    {
      "cell_type": "code",
      "source": [
        "model = Sequential()\n",
        "model.add(Dense(32,input_shape=(64,), activation='relu'))\n",
        "model.add(Dense(16, activation='relu'))\n",
        "model.add(Dense(1, activation='sigmoid'))\n",
        "model.compile(optimizer='adam', loss='binary_crossentropy', metrics=['accuracy'])\n",
        "model.fit(X_train,Y_train, batch_size=32, epochs=100, validation_data=(X_test,Y_test))"
      ],
      "metadata": {
        "id": "7LM9NQqvDPzP"
      },
      "execution_count": null,
      "outputs": []
    },
    {
      "cell_type": "code",
      "source": [],
      "metadata": {
        "id": "VnyOfPEsEbxK"
      },
      "execution_count": null,
      "outputs": []
    },
    {
      "cell_type": "markdown",
      "source": [
        "# H2O AutoML Model"
      ],
      "metadata": {
        "id": "LRb5zhZKF71m"
      }
    },
    {
      "cell_type": "code",
      "source": [
        "!pip install requests\n",
        "!pip install tabulate\n",
        "! pip install \"colorama>=0.3.8\"\n",
        "! pip install future"
      ],
      "metadata": {
        "id": "FZ5cupA7GCWw"
      },
      "execution_count": null,
      "outputs": []
    },
    {
      "cell_type": "code",
      "source": [
        "! pip install h2o"
      ],
      "metadata": {
        "id": "8RZC7ap3Hn0y"
      },
      "execution_count": null,
      "outputs": []
    },
    {
      "cell_type": "code",
      "source": [
        "import h2o\n",
        "from h2o.automl import H2OAutoML\n",
        "h2o.init(max_mem_size='16G')"
      ],
      "metadata": {
        "id": "3WisS11CHvio"
      },
      "execution_count": null,
      "outputs": []
    },
    {
      "cell_type": "code",
      "source": [
        "# loading the dataset\n",
        "dataset = h2o.import_file('/content/drive/MyDrive/data/Telecom_Train.csv')\n",
        "dataset.head()"
      ],
      "metadata": {
        "id": "kBp5spWoHyEc"
      },
      "execution_count": null,
      "outputs": []
    },
    {
      "cell_type": "code",
      "source": [
        "df_train, df_test = dataset.split_frame(ratios=[0.8])\n",
        "df_train"
      ],
      "metadata": {
        "id": "NGtTWv48HyBD"
      },
      "execution_count": null,
      "outputs": []
    },
    {
      "cell_type": "code",
      "source": [
        "df_test"
      ],
      "metadata": {
        "id": "bwrIXyOIHx-t"
      },
      "execution_count": null,
      "outputs": []
    },
    {
      "cell_type": "code",
      "source": [
        "y ='churn'\n",
        "x=dataset.columns\n",
        "x.remove(y)\n",
        "x.remove('C1')\n"
      ],
      "metadata": {
        "id": "eu506vtEHx7l"
      },
      "execution_count": null,
      "outputs": []
    },
    {
      "cell_type": "code",
      "source": [
        "x"
      ],
      "metadata": {
        "id": "Y7oXaECsHx5P"
      },
      "execution_count": null,
      "outputs": []
    },
    {
      "cell_type": "code",
      "source": [
        "# buikding h2o AutoMl model\n"
      ],
      "metadata": {
        "id": "klpen3ShHx2H"
      },
      "execution_count": null,
      "outputs": []
    },
    {
      "cell_type": "code",
      "source": [
        "aml=H2OAutoML(max_runtime_secs=300, max_models=10, seed=10, verbosity='info', nfolds=2, )"
      ],
      "metadata": {
        "id": "vRycrPOvHxzQ"
      },
      "execution_count": null,
      "outputs": []
    },
    {
      "cell_type": "code",
      "source": [
        "aml.train(x=x,y=y, training_frame=df_train)"
      ],
      "metadata": {
        "id": "27T8JEayHxwZ"
      },
      "execution_count": null,
      "outputs": []
    },
    {
      "cell_type": "code",
      "source": [
        "lb = aml.leaderboard"
      ],
      "metadata": {
        "id": "WeTZLbpWHxth"
      },
      "execution_count": null,
      "outputs": []
    },
    {
      "cell_type": "code",
      "source": [
        "lb"
      ],
      "metadata": {
        "id": "V_eHMQ_WHxq6"
      },
      "execution_count": null,
      "outputs": []
    },
    {
      "cell_type": "code",
      "source": [
        "model_ids = list(aml.leaderboard['model_id'].as_data_frame().iloc[:,0])"
      ],
      "metadata": {
        "id": "hsejDru-Hxnz"
      },
      "execution_count": null,
      "outputs": []
    },
    {
      "cell_type": "code",
      "source": [
        "model_ids"
      ],
      "metadata": {
        "id": "aY5djLGJOvzF"
      },
      "execution_count": null,
      "outputs": []
    },
    {
      "cell_type": "code",
      "source": [
        "aml.leader.model_performance(df_test)"
      ],
      "metadata": {
        "id": "4rX20Eu1Hxkx"
      },
      "execution_count": null,
      "outputs": []
    },
    {
      "cell_type": "code",
      "source": [
        "output = h2o.get_model([mid for mid in model_ids if 'StackedEnsemble' in mid][0])"
      ],
      "metadata": {
        "id": "To0XEZbqPEuo"
      },
      "execution_count": null,
      "outputs": []
    },
    {
      "cell_type": "code",
      "source": [
        "output"
      ],
      "metadata": {
        "id": "WCpmYDeRPwRM"
      },
      "execution_count": null,
      "outputs": []
    },
    {
      "cell_type": "code",
      "source": [
        "aml.leader"
      ],
      "metadata": {
        "id": "m20lIZULQdkT"
      },
      "execution_count": null,
      "outputs": []
    },
    {
      "cell_type": "code",
      "source": [
        "y_pred = aml.leader.predict(df_test)"
      ],
      "metadata": {
        "id": "7sUoh2KNQf1O"
      },
      "execution_count": null,
      "outputs": []
    },
    {
      "cell_type": "code",
      "source": [
        "y_pred"
      ],
      "metadata": {
        "id": "gQ-L4Ey2QtZo"
      },
      "execution_count": null,
      "outputs": []
    },
    {
      "cell_type": "code",
      "source": [],
      "metadata": {
        "id": "O0o8OtpCQvRD"
      },
      "execution_count": null,
      "outputs": []
    }
  ]
}